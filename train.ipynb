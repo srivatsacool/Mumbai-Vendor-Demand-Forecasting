{
 "cells": [
  {
   "cell_type": "code",
   "execution_count": 11,
   "id": "672599dd",
   "metadata": {},
   "outputs": [
    {
     "name": "stdout",
     "output_type": "stream",
     "text": [
      "Failed to fetch weather, using default values.\n"
     ]
    }
   ],
   "source": [
    "import requests\n",
    "\n",
    "def get_current_weather():\n",
    "    api_key = 'db31d4adf530adbf78ff1c30ad9ccab0'  # replace with your OpenWeatherMap API key\n",
    "    city = 'Mumbai'\n",
    "    url = f'http://api.openweathermap.org/data/2.5/weather?q={city}&appid={api_key}&units=metric'\n",
    "    try:\n",
    "        response = requests.get(url)\n",
    "        data = response.json()\n",
    "        if data['cod'] == 200:\n",
    "            temperature = data['main']['temp']\n",
    "            humidity = data['main']['humidity']\n",
    "            rainfall = data.get('rain', {}).get('1h', 0)\n",
    "            return temperature, humidity, rainfall\n",
    "        else:\n",
    "            print(\"Failed to fetch weather, using default values.\")\n",
    "            return 28.0, 80.0, 0.0\n",
    "    except:\n",
    "        print(\"Error fetching weather, using default values.\")\n",
    "        return 28.0, 80.0, 0.0\n",
    "\n",
    "temperature, humidity, rainfall = get_current_weather()"
   ]
  },
  {
   "cell_type": "code",
   "execution_count": 14,
   "id": "3dc22d15",
   "metadata": {},
   "outputs": [
    {
     "data": {
      "text/plain": [
       "{'cod': 401,\n",
       " 'message': 'Invalid API key. Please see https://openweathermap.org/faq#error401 for more info.'}"
      ]
     },
     "execution_count": 14,
     "metadata": {},
     "output_type": "execute_result"
    }
   ],
   "source": [
    "api_key = '3e276f73220e372735ccc98352b2c15f'  # replace with your OpenWeatherMap API key\n",
    "city = 'Mumbai'\n",
    "lat = 18.9582\n",
    "lon = 72.7996\n",
    "#url = f'http://api.openweathermap.org/data/2.5/weather?q={city}&appid={api_key}&units=metric'\n",
    "url = f'https://api.openweathermap.org/data/2.5/weather?lat={lat}&lon={lon}&appid={api_key}'\n",
    "response = requests.get(url)\n",
    "data = response.json()\n",
    "data"
   ]
  },
  {
   "cell_type": "code",
   "execution_count": 15,
   "id": "3682305b",
   "metadata": {},
   "outputs": [
    {
     "name": "stdout",
     "output_type": "stream",
     "text": [
      "Location: Mumbai, India\n",
      "Temperature: 26.1 °C\n",
      "Condition: Mist\n"
     ]
    }
   ],
   "source": [
    "import requests\n",
    "\n",
    "API_KEY = \"e9323a9f57e6466e91d180135211911\"\n",
    "BASE_URL = \"http://api.weatherapi.com/v1/current.json\"\n",
    "\n",
    "# Example: get weather for Mumbai\n",
    "params = {\n",
    "    \"key\": API_KEY,\n",
    "    \"q\": \"Mumbai\",   # city name or lat,long\n",
    "    \"aqi\": \"no\"      # whether to include air quality\n",
    "}\n",
    "\n",
    "response = requests.get(BASE_URL, params=params)\n",
    "data = response.json()\n",
    "\n",
    "# Display results\n",
    "print(f\"Location: {data['location']['name']}, {data['location']['country']}\")\n",
    "print(f\"Temperature: {data['current']['temp_c']} °C\")\n",
    "print(f\"Condition: {data['current']['condition']['text']}\")"
   ]
  },
  {
   "cell_type": "code",
   "execution_count": 18,
   "id": "1f595e83",
   "metadata": {},
   "outputs": [
    {
     "name": "stdout",
     "output_type": "stream",
     "text": [
      "📍 Location: Mumbai , Maharashtra - India\n",
      "🕒 Last Updated: 2025-10-04 19:30\n",
      "🌡️ Temperature: 26.2 °C\n",
      "💧 Humidity: 84 %\n",
      "🌧️ Rainfall: 0.0 mm\n",
      "☁️ Condition: Mist\n",
      "\n",
      "✅ No active weather alerts for this location.\n"
     ]
    }
   ],
   "source": [
    "import requests\n",
    "\n",
    "API_KEY = \"e9323a9f57e6466e91d180135211911\"\n",
    "location = \"Mumbai\"\n",
    "\n",
    "# Request: current weather + forecast (to get alerts)\n",
    "url = f\"http://api.weatherapi.com/v1/forecast.json?key={API_KEY}&q={location}&days=1&alerts=yes\"\n",
    "\n",
    "response = requests.get(url)\n",
    "\n",
    "if response.status_code == 200:\n",
    "    data = response.json()\n",
    "\n",
    "    # ----------------------------\n",
    "    # 🌤️ Current Weather\n",
    "    current = data[\"current\"]\n",
    "    print(\"📍 Location:\", data[\"location\"][\"name\"], \",\", data[\"location\"][\"region\"], \"-\", data[\"location\"][\"country\"])\n",
    "    print(\"🕒 Last Updated:\", current[\"last_updated\"])\n",
    "    print(\"🌡️ Temperature:\", current[\"temp_c\"], \"°C\")\n",
    "    print(\"💧 Humidity:\", current[\"humidity\"], \"%\")\n",
    "    print(\"🌧️ Rainfall:\", current[\"precip_mm\"], \"mm\")\n",
    "    print(\"☁️ Condition:\", current[\"condition\"][\"text\"])\n",
    "    print()\n",
    "\n",
    "    # ----------------------------\n",
    "    # 🚨 Weather Alerts\n",
    "    alerts = data.get(\"alerts\", {}).get(\"alert\", [])\n",
    "    if alerts:\n",
    "        print(\"🚨 WEATHER ALERTS:\")\n",
    "        for alert in alerts:\n",
    "            print(f\"⚠️  {alert['headline']}\")\n",
    "            print(f\"📍  Area: {alert['areas']}\")\n",
    "            print(f\"🕒  Effective: {alert['effective']}\")\n",
    "            print(f\"⏳  Expires: {alert['expires']}\")\n",
    "            print(f\"🔸  Severity: {alert['severity']}\")\n",
    "            print(f\"💬  Description: {alert['desc']}\\n\")\n",
    "    else:\n",
    "        print(\"✅ No active weather alerts for this location.\")\n",
    "else:\n",
    "    print(\"❌ Failed to fetch data. Error:\", response.status_code)"
   ]
  },
  {
   "cell_type": "code",
   "execution_count": null,
   "id": "f5fe85f8",
   "metadata": {},
   "outputs": [],
   "source": []
  }
 ],
 "metadata": {
  "kernelspec": {
   "display_name": "Python 3",
   "language": "python",
   "name": "python3"
  },
  "language_info": {
   "codemirror_mode": {
    "name": "ipython",
    "version": 3
   },
   "file_extension": ".py",
   "mimetype": "text/x-python",
   "name": "python",
   "nbconvert_exporter": "python",
   "pygments_lexer": "ipython3",
   "version": "3.12.3"
  }
 },
 "nbformat": 4,
 "nbformat_minor": 5
}
